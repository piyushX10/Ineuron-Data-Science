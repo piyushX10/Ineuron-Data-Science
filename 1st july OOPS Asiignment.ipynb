{
 "cells": [
  {
   "cell_type": "markdown",
   "id": "792347c4-523f-41a6-b662-94351a86738c",
   "metadata": {},
   "source": [
    "Q.(1).  What is the primary goal of Object-Oriented Programming (OOP)?\n",
    "\n",
    "\n",
    "Answer - The primary goal of OOP would be collect and hold the entire data into a single subject such that it would be easy to other methods and objects."
   ]
  },
  {
   "cell_type": "markdown",
   "id": "2f37d118-7087-4b70-b9d0-d40b202d79c3",
   "metadata": {},
   "source": [
    "Q.(2).  What is an object in Python?\n",
    "\n",
    "\n",
    "Answer- An Object is an instance of a Class. A class is like a blueprint while an instance is a copy of the class with actual values. Python is an object-oriented programming language that stresses objects i.e. it mainly emphasizes functions.\n"
   ]
  },
  {
   "cell_type": "markdown",
   "id": "10911c15-aa68-41e6-80c0-4b5877140c3f",
   "metadata": {},
   "source": [
    "Q.(3).  What is a class in Python?\n",
    "\n",
    "\n",
    "Answer- A class is a code template for creating objects. Objects have member variables and have behaviour associated with them. In python a class is created by the keyword class . An object is created using the constructor of the class.\n"
   ]
  },
  {
   "cell_type": "markdown",
   "id": "7281298d-3385-4776-a7a0-60ccd5134983",
   "metadata": {},
   "source": [
    "Q.(4).  What are attributes and methods in a class?\n",
    "\n",
    "\n",
    "Amswer - Class Attributes are the attributes that belong to the class itself rather than a particular object. Usually, we use class attributes to define the attributes that have a common value among all the objects inside the class. Class Methods are the methods that have access to the class attributes."
   ]
  },
  {
   "cell_type": "markdown",
   "id": "56b14602-d964-40d7-b174-87ab82e9457c",
   "metadata": {},
   "source": [
    "Q.(5).  What is the difference between class variables and instance variables in Python?\n",
    "\n",
    "\n",
    "Answer - Class variables are useful for storing data that is shared among all instances of a class, such as constants or default values. Instance variables are used to store data that is unique to each instance of a class, such as object properties."
   ]
  },
  {
   "cell_type": "markdown",
   "id": "5bfd5a34-2dbe-4ca6-86e0-e1a0e22b23bf",
   "metadata": {},
   "source": [
    "Q.(6).  What is the purpose of the self parameter in Python class methods?\n",
    "\n",
    "\n",
    "Answer - The self parameter is a reference to the current instance of the class, and is used to access variables that belongs to the class."
   ]
  },
  {
   "cell_type": "markdown",
   "id": "4470de60-4e69-4ba4-9a3a-38280fe728c8",
   "metadata": {},
   "source": [
    "Q.(7).  For a library management system, you have to design the \"Book\" class with OOP\n",
    "principles in mind. The “Book” class will have following attributes:\n",
    "a. title: Represents the title of the book.\n",
    "b. author: Represents the author(s) of the book.\n",
    "c. isbn: Represents the ISBN (International Standard Book Number) of the book.\n",
    "d. publication_year: Represents the year of publication of the book.\n",
    "e. available_copies: Represents the number of copies available for checkout.\n",
    "The class will also include the following methods:\n",
    "a. check_out(self): Decrements the available copies by one if there are copies\n",
    "available for checkout.\n",
    "b. return_book(self): Increments the available copies by one when a book is\n",
    "returned.\n",
    "c. display_book_info(self): Displays the information about the book, including its\n",
    "attributes and the number of available copies."
   ]
  },
  {
   "cell_type": "code",
   "execution_count": 3,
   "id": "8e00e418-72b5-4c2d-969e-fbf86b47fe91",
   "metadata": {},
   "outputs": [],
   "source": [
    "## Answer -\n",
    "\n",
    "class Book:\n",
    "    def __init__(self, title, author, isbn, publication_year, available_copies):\n",
    "        self.title = title\n",
    "        self.author = author\n",
    "        self.isbn = isbn\n",
    "        self.publication_year = publication_year\n",
    "        self.available_copies = available_copies\n",
    "\n",
    "    def check_out(self):\n",
    "        if self.available_copies > 0:\n",
    "            self.available_copies -= 1\n",
    "            print(\"Book checked out successfully.\")\n",
    "        else:\n",
    "            print(\"No copies available for checkout.\")\n",
    "\n",
    "    def return_book(self):\n",
    "        self.available_copies += 1\n",
    "        print(\"Book returned successfully.\")\n",
    "\n",
    "    def display_book_info(self):\n",
    "        print(\"Title:\", self.title)\n",
    "        print(\"Author(s):\", self.author)\n",
    "        print(\"ISBN:\", self.isbn)\n",
    "        print(\"Publication Year:\", self.publication_year)\n",
    "        print(\"Available Copies:\", self.available_copies)"
   ]
  },
  {
   "cell_type": "code",
   "execution_count": 6,
   "id": "3af7d4b5-4488-4977-a513-0e7c9c4c5565",
   "metadata": {},
   "outputs": [
    {
     "name": "stdout",
     "output_type": "stream",
     "text": [
      "Book checked out successfully.\n",
      "Book returned successfully.\n",
      "Title: Title 1\n",
      "Author(s): Author 1\n",
      "ISBN: ISBN456\n",
      "Publication Year: 2023\n",
      "Available Copies: 4\n"
     ]
    }
   ],
   "source": [
    "book1 = Book(\"Title 1\", \"Author 1\", \"ISBN456\", 2023, 4)\n",
    "book1.check_out() \n",
    "book1.return_book()\n",
    "book1.display_book_info()\n"
   ]
  },
  {
   "cell_type": "markdown",
   "id": "b2212e98-902b-420f-9a3e-c509bc6e8323",
   "metadata": {},
   "source": [
    "Q.(8) For a ticket booking system, you have to design the \"Ticket\" class with OOP\n",
    "principles in mind. The “Ticket” class should have the following attributes:\n",
    "\n",
    "a. ticket_id: Represents the unique identifier for the ticket.\n",
    "b. event_name: Represents the name of the event.\n",
    "c. event_date: Represents the date of the event.\n",
    "d. venue: Represents the venue of the event.\n",
    "e. seat_number: Represents the seat number associated with the ticket.\n",
    "f. price: Represents the price of the ticket.\n",
    "g. is_reserved: Represents the reservation status of the ticket.\n",
    "\n",
    "The class also includes the following methods:\n",
    "\n",
    "a. reserve_ticket(self): Marks the ticket as reserved if it is not already reserved.\n",
    "b. cancel_reservation(self): Cancels the reservation of the ticket if it is already\n",
    "reserved.\n",
    "c. display_ticket_info(self): Displays the information about the ticket, including its\n",
    "attributes and reservation status."
   ]
  },
  {
   "cell_type": "code",
   "execution_count": 5,
   "id": "923b0a67-a4ae-4c75-bdd2-a10a0f03df4d",
   "metadata": {},
   "outputs": [],
   "source": [
    "## Answer -\n",
    "\n",
    "class Ticket:\n",
    "    def __init__(self, ticket_id, event_name, event_date, venue, seat_number, price):\n",
    "        self.ticket_id = ticket_id\n",
    "        self.event_name = event_name\n",
    "        self.event_date = event_date\n",
    "        self.venue = venue\n",
    "        self.seat_number = seat_number\n",
    "        self.price = price\n",
    "        self.is_reserved = False\n",
    "\n",
    "    def reserve_ticket(self):\n",
    "        if not self.is_reserved:\n",
    "            self.is_reserved = True\n",
    "            print(\"Ticket reserved successfully.\")\n",
    "        else:\n",
    "            print(\"Ticket is already reserved.\")\n",
    "\n",
    "    def cancel_reservation(self):\n",
    "        if self.is_reserved:\n",
    "            self.is_reserved = False\n",
    "            print(\"Reservation canceled successfully.\")\n",
    "        else:\n",
    "            print(\"Ticket is not currently reserved.\")\n",
    "\n",
    "    def display_ticket_info(self):\n",
    "        print(\"Ticket ID:\", self.ticket_id)\n",
    "        print(\"Event Name:\", self.event_name)\n",
    "        print(\"Event Date:\", self.event_date)\n",
    "        print(\"Venue:\", self.venue)\n",
    "        print(\"Seat Number:\", self.seat_number)\n",
    "        print(\"Price:\", self.price)\n",
    "        print(\"Reservation Status:\", \"Reserved\" if self.is_reserved else \"Not Reserved\")\n",
    "\n"
   ]
  },
  {
   "cell_type": "code",
   "execution_count": 7,
   "id": "6fd444ca-25dc-4849-806d-868b37a9bf70",
   "metadata": {},
   "outputs": [
    {
     "name": "stdout",
     "output_type": "stream",
     "text": [
      "Ticket reserved successfully.\n",
      "Reservation canceled successfully.\n",
      "Ticket ID: T123\n",
      "Event Name: CRICKET\n",
      "Event Date: 2023-09-24\n",
      "Venue: JAMTHA\n",
      "Seat Number: z15\n",
      "Price: 80\n",
      "Reservation Status: Not Reserved\n"
     ]
    }
   ],
   "source": [
    "\n",
    "ticket1 = Ticket(\"T123\", \"CRICKET\", \"2023-09-24\", \"JAMTHA\", \"z15\", 80)\n",
    "\n",
    "\n",
    "ticket1.reserve_ticket() \n",
    "\n",
    "\n",
    "ticket1.cancel_reservation() \n",
    "\n",
    "\n",
    "ticket1.display_ticket_info()\n"
   ]
  },
  {
   "cell_type": "markdown",
   "id": "eef37c69-87d2-4a25-83c6-8596eb2fd957",
   "metadata": {},
   "source": [
    "Q.(9). You are creating a shopping cart for an e-commerce website. Using OOP to model\n",
    "the \"ShoppingCart\" functionality the class should contain following attributes and\n",
    "methods:\n",
    "a. items: Represents the list of items in the shopping cart.\n",
    "The class also includes the following methods:\n",
    "\n",
    "a. add_item(self, item): Adds an item to the shopping cart by appending it to the\n",
    "list of items.\n",
    "b. remove_item(self, item): Removes an item from the shopping cart if it exists in\n",
    "the list.\n",
    "c. view_cart(self): Displays the items currently present in the shopping cart.\n",
    "d. clear_cart(self): Clears all items from the shopping cart by reassigning an\n",
    "empty list to the items attribute."
   ]
  },
  {
   "cell_type": "code",
   "execution_count": 8,
   "id": "b650b34b-9277-4359-a6b2-65550e37d67a",
   "metadata": {},
   "outputs": [],
   "source": [
    "## Answer - \n",
    "\n",
    "class ShoppingCart:\n",
    "    def __init__(self):\n",
    "        self.items = []\n",
    "\n",
    "    def add_item(self, item):\n",
    "        self.items.append(item)\n",
    "        print(\"Item added to the shopping cart.\")\n",
    "\n",
    "    def remove_item(self, item):\n",
    "        if item in self.items:\n",
    "            self.items.remove(item)\n",
    "            print(\"Item removed from the shopping cart.\")\n",
    "        else:\n",
    "            print(\"Item not found in the shopping cart.\")\n",
    "\n",
    "    def view_cart(self):\n",
    "        if self.items:\n",
    "            print(\"Items in the shopping cart:\")\n",
    "            for item in self.items:\n",
    "                print(\"- \" + item)\n",
    "        else:\n",
    "            print(\"Shopping cart is empty.\")\n",
    "\n",
    "    def clear_cart(self):\n",
    "        self.items = []\n",
    "        print(\"Shopping cart cleared.\")\n",
    "\n"
   ]
  },
  {
   "cell_type": "code",
   "execution_count": 10,
   "id": "3092c4c0-4496-4bec-bbc5-b8c037b1191b",
   "metadata": {},
   "outputs": [
    {
     "name": "stdout",
     "output_type": "stream",
     "text": [
      "Item added to the shopping cart.\n",
      "Items in the shopping cart:\n",
      "- Item 1\n",
      "Item not found in the shopping cart.\n",
      "Shopping cart cleared.\n",
      "Shopping cart is empty.\n"
     ]
    }
   ],
   "source": [
    "cart.add_item(\"Item 1\") \n",
    "cart.view_cart()\n",
    "cart.remove_item(\"Item 2\")  \n",
    "cart.clear_cart()  \n",
    "cart.view_cart()  \n",
    "\n"
   ]
  },
  {
   "cell_type": "markdown",
   "id": "6a1c1a58-f1b4-49b6-b5e2-10efdcbc97ba",
   "metadata": {},
   "source": [
    "Q.(10). Imagine a school management system. You have to design the \"Student\" class using\n",
    "OOP concepts.The “Student” class has the following attributes:\n",
    "\n",
    "a. name: Represents the name of the student.\n",
    "b. age: Represents the age of the student.\n",
    "c. grade: Represents the grade or class of the student.\n",
    "d. student_id: Represents the unique identifier for the student.\n",
    "e. attendance: Represents the attendance record of the student.\n",
    "\n",
    "The class should also include the following methods:\n",
    "\n",
    "a. update_attendance(self, date, status): Updates the attendance record of the\n",
    "student for a given date with the provided status (e.g., present or absent).\n",
    "b. get_attendance(self): Returns the attendance record of the student.\n",
    "c. get_average_attendance(self): Calculates and returns the average\n",
    "attendance percentage of the student based on their attendance record."
   ]
  },
  {
   "cell_type": "code",
   "execution_count": 11,
   "id": "72319427-9f57-438e-a585-4f6241d3ba09",
   "metadata": {},
   "outputs": [],
   "source": [
    "## Answer -\n",
    "\n",
    "class Student:\n",
    "    def __init__(self, name, age, grade, student_id):\n",
    "        self.name = name\n",
    "        self.age = age\n",
    "        self.grade = grade\n",
    "        self.student_id = student_id\n",
    "        self.attendance = {}\n",
    "\n",
    "    def update_attendance(self, date, status):\n",
    "        self.attendance[date] = status\n",
    "        print(\"Attendance updated successfully.\")\n",
    "\n",
    "    def get_attendance(self):\n",
    "        return self.attendance\n",
    "\n",
    "    def get_average_attendance(self):\n",
    "        if not self.attendance:\n",
    "            return 0\n",
    "\n",
    "        total_days = len(self.attendance)\n",
    "        present_days = sum(value == 'present' for value in self.attendance.values())\n",
    "        average_attendance = (present_days / total_days) * 100\n",
    "        return average_attendance\n"
   ]
  },
  {
   "cell_type": "code",
   "execution_count": 12,
   "id": "c4e7edf2-bbb6-4483-8848-9c05f6a15331",
   "metadata": {},
   "outputs": [
    {
     "name": "stdout",
     "output_type": "stream",
     "text": [
      "Attendance updated successfully.\n",
      "Attendance updated successfully.\n",
      "Attendance: {'2023-07-01': 'present', '2023-07-02': 'absent'}\n",
      "Average Attendance: 50.0\n"
     ]
    }
   ],
   "source": [
    "\n",
    "student1 = Student(\"John Doe\", 15, \"10th Grade\", \"S12345\")\n",
    "\n",
    "\n",
    "student1.update_attendance(\"2023-07-01\", \"present\")  \n",
    "student1.update_attendance(\"2023-07-02\", \"absent\")   \n",
    "\n",
    "\n",
    "attendance = student1.get_attendance()\n",
    "print(\"Attendance:\", attendance)\n",
    "\n",
    "\n",
    "\n",
    "average_attendance = student1.get_average_attendance()\n",
    "print(\"Average Attendance:\", average_attendance)\n",
    "\n"
   ]
  },
  {
   "cell_type": "code",
   "execution_count": null,
   "id": "75b8c942-26aa-479c-8c9b-7a8494be49dc",
   "metadata": {},
   "outputs": [],
   "source": []
  }
 ],
 "metadata": {
  "kernelspec": {
   "display_name": "Python 3 (ipykernel)",
   "language": "python",
   "name": "python3"
  },
  "language_info": {
   "codemirror_mode": {
    "name": "ipython",
    "version": 3
   },
   "file_extension": ".py",
   "mimetype": "text/x-python",
   "name": "python",
   "nbconvert_exporter": "python",
   "pygments_lexer": "ipython3",
   "version": "3.10.6"
  }
 },
 "nbformat": 4,
 "nbformat_minor": 5
}

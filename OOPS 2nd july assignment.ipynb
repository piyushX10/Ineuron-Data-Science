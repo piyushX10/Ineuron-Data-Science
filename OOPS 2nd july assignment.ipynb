{
 "cells": [
  {
   "cell_type": "markdown",
   "id": "4c78d2fc-6894-4b35-ade6-91ff7321a316",
   "metadata": {},
   "source": [
    "Q.(1). Explain what inheritance is in object-oriented programming and why it is used.\n",
    "\n",
    "Answer- Inheritance is the concept in OOPs in which one class inherits the attributes and methods of another class. The class whose properties and methods are inherited is known as the Parent class.Inheritance allows programmers to create classes that are built upon existing classes, to specify a new implementation while maintaining the same behaviors (realizing an interface), to reuse code and to independently extend original software via public classes and interfaces."
   ]
  },
  {
   "cell_type": "markdown",
   "id": "40d3332b-6dc2-4dd4-81c9-606f649592bb",
   "metadata": {},
   "source": [
    "Q.(2). Discuss the concept of single inheritance and multiple inheritance, highlighting their\n",
    "differences and advantages.\n",
    "\n",
    "Answer - (1) Single Inhertance -\n",
    "\n",
    "In Single inheritance, there is a single base class, and a single derived class. The derived class inherits the base class either publicly, protectedly and privately. The members of the base class can be accessed by derived class according to the access specifier specified during inheriting the base class.\n",
    "\n",
    " Advantages - In single inheritance, the derived class uses the features of the single base class. While in multiple inheritance, the derived class uses the joint features of the inherited base classes. Single inheritance requires small run time as compared to multiple inheritance due to less overhead.\n",
    "\n",
    " (2) Multiple Inheritance - \n",
    " \n",
    " Multiple inheritance allows derived class to inherit combined features of more than one base class, i.e. we do have single derived class and multiple base classes. Every base class has to be inherited by mentioning the separate access specifier for each of them. A derived class can access the members of base classes based on the access specifier by which the base class is inherited.\n",
    " \n",
    "  Advantages- multiple inheritance can be a useful programming concept that allows for code re usability, flexibility, and better organization. However, it also has some disadvantages, including increased complexity, naming conflicts, the diamond problem, and maintenance issues.\n",
    " \n",
    " \n",
    " (3) Differneces-\n",
    " \n",
    " *Single inheritance is one derived class having a single base class. On the contrary, multiple inheritance has two or more than two base classes, but single derived class.\n",
    " *Multiple inheritance is quite confusing as here a single derived class inherit two or more base class. If the base classes have an attribute or function with the same name then for a derived class, it becomes difficult to identify which base class’s attribute or function it has to derive.\n",
    " *Single inheritance is more towards specialization. Conversely, multiple inheritance is more towards generalization.\n",
    " *Due to less overhead in single inheritance it has less runtime than multiple inheritance."
   ]
  },
  {
   "cell_type": "markdown",
   "id": "1a42c41c-7093-413f-829d-efe798297bb3",
   "metadata": {},
   "source": [
    "Q.(3). Explain the terms \"base class\" and \"derived class\" in the context of inheritance.\n",
    "\n",
    "Answer - Base Class - A base class is a class in Object-Oriented Programming language, from which other classes are derived. The class which inherits the base class has all members of a base class as well as can also have some additional properties. The Base class members and member functions are inherited to Object of the derived class. A base class is also called parent class or superclass.\n",
    "\n",
    " Derived Class - A class that is created from an existing class. The derived class inherits all members and member functions of a base class. The derived class can have more functionality with respect to the Base class and can easily access the Base class. A Derived class is also called a child class or subclass."
   ]
  },
  {
   "cell_type": "markdown",
   "id": "32d1e697-a5fa-40c0-8416-802cc4336c81",
   "metadata": {},
   "source": [
    "Q.(4). What is the significance of the \"protected\" access modifier in inheritance? How does\n",
    "it differ from \"private\" and \"public\" modifiers?\n",
    "\n",
    "Answer - \n",
    "\n",
    "Private, Public, and Protected keywords are access modifiers. Depending on what you want to do with the variable or function, you might want to restrict the access modifier to be either public, private, and protected.\n",
    "\n",
    "Below are quick summaries of each access modifier and where they can be accessed from. It’s important to know the differences between the access modifiers and use them in appropriate places.\n",
    "\n",
    "Public-\n",
    "When a method, member, and classes are declared public, they can be accessed from anywhere. They can be accessed by class, package, subclass (same or different package), and the world.\n",
    "\n",
    "Protected-\n",
    "Protected access modifiers allow the data members to be accessed by class, package, subclass (same package), subclass (different package). The difference between public and protected is that public can be accessed from outside class but protected cannot be accessed from outside class.\n",
    "\n",
    "\n",
    "Private-\n",
    "Private access modifier only allows the data member to be accessed by class. Class and Interface cannot be declared as private.\n"
   ]
  },
  {
   "cell_type": "markdown",
   "id": "67fa739f-8d7e-425c-9225-8a16dd08191a",
   "metadata": {},
   "source": [
    "Q.(5).What is the purpose of the \"super\" keyword in inheritance? Provide an example.\n",
    "\n",
    "Answer - super is used to access a superclass field: A subclass can access a field defined in its parent class using the super keyword. This is useful when the subclass wants to reference the parent class's version of a field."
   ]
  },
  {
   "cell_type": "code",
   "execution_count": 3,
   "id": "9794201c-4c57-435e-9226-7faf28c671be",
   "metadata": {},
   "outputs": [
    {
     "name": "stdout",
     "output_type": "stream",
     "text": [
      "Dog has four legs.\n",
      "Dog is a warm-blooded animal.\n"
     ]
    }
   ],
   "source": [
    "##example-\n",
    "class Mammal(object):\n",
    "  def __init__(self, mammalName):\n",
    "    print(mammalName, 'is a warm-blooded animal.')\n",
    "    \n",
    "class Dog(Mammal):\n",
    "  def __init__(self):\n",
    "    print('Dog has four legs.')\n",
    "    super().__init__('Dog')\n",
    "    \n",
    "d1 = Dog()"
   ]
  },
  {
   "cell_type": "markdown",
   "id": "6d12243e-89a8-44ff-8b3d-ae5c95e234e8",
   "metadata": {},
   "source": [
    "Q.(6).Create a base class called \"Vehicle\" with attributes like \"make\", \"model\", and \"year\".\n",
    "Then, create a derived class called \"Car\" that inherits from \"Vehicle\" and adds an\n",
    "attribute called \"fuel_type\". Implement appropriate methods in both classes."
   ]
  },
  {
   "cell_type": "code",
   "execution_count": 4,
   "id": "16f49885-c793-4b1d-bde9-3bbf9559f6de",
   "metadata": {},
   "outputs": [
    {
     "name": "stdout",
     "output_type": "stream",
     "text": [
      "Make: BMW\n",
      "Model: M5 COMPETITION\n",
      "Year: 2023\n",
      "Fuel Type: PETROL\n"
     ]
    }
   ],
   "source": [
    "## Answer - \n",
    "\n",
    "class Vehicle:\n",
    "    def __init__(self, make, model, year):\n",
    "        self.make = make\n",
    "        self.model = model\n",
    "        self.year = year\n",
    "\n",
    "    def get_make(self):\n",
    "        return self.make\n",
    "\n",
    "    def get_model(self):\n",
    "        return self.model\n",
    "\n",
    "    def get_year(self):\n",
    "        return self.year\n",
    "\n",
    "\n",
    "class Car(Vehicle):\n",
    "    def __init__(self, make, model, year, fuel_type):\n",
    "        super().__init__(make, model, year)\n",
    "        self.fuel_type = fuel_type\n",
    "\n",
    "    def get_fuel_type(self):\n",
    "        return self.fuel_type\n",
    "\n",
    "\n",
    "\n",
    "my_car = Car(\"BMW\", \"M5 COMPETITION\", 2023, \"PETROL\")\n",
    "print(\"Make:\", my_car.get_make())\n",
    "print(\"Model:\", my_car.get_model())\n",
    "print(\"Year:\", my_car.get_year())\n",
    "print(\"Fuel Type:\", my_car.get_fuel_type())\n",
    "\n"
   ]
  },
  {
   "cell_type": "markdown",
   "id": "59c8e480-b89d-4714-bd6d-f439ef2986db",
   "metadata": {},
   "source": [
    "Q.(7).Create a base class called \"Employee\" with attributes like \"name\" and \"salary.\"\n",
    "Derive two classes, \"Manager\" and \"Developer,\" from \"Employee.\" Add an additional\n",
    "attribute called \"department\" for the \"Manager\" class and \"programming_language\"\n",
    "for the \"Developer\" class."
   ]
  },
  {
   "cell_type": "code",
   "execution_count": 7,
   "id": "b460c7a5-3de2-483f-8b21-5716ab0dd915",
   "metadata": {},
   "outputs": [
    {
     "name": "stdout",
     "output_type": "stream",
     "text": [
      "Manager Name: M.SHARMA\n",
      "Manager Salary: 110000\n",
      "Manager Department: Sales\n",
      "Developer Name: SARANG C\n",
      "Developer Salary: 80000\n",
      "Developer Programming Language: Python\n"
     ]
    }
   ],
   "source": [
    "##Answer -\n",
    "\n",
    "class Employee:\n",
    "    def __init__(self, name, salary):\n",
    "        self.name = name\n",
    "        self.salary = salary\n",
    "\n",
    "    def get_name(self):\n",
    "        return self.name\n",
    "\n",
    "    def get_salary(self):\n",
    "        return self.salary\n",
    "\n",
    "\n",
    "class Manager(Employee):\n",
    "    def __init__(self, name, salary, department):\n",
    "        super().__init__(name, salary)\n",
    "        self.department = department\n",
    "\n",
    "    def get_department(self):\n",
    "        return self.department\n",
    "\n",
    "\n",
    "class Developer(Employee):\n",
    "    def __init__(self, name, salary, programming_language):\n",
    "        super().__init__(name, salary)\n",
    "        self.programming_language = programming_language\n",
    "\n",
    "    def get_programming_language(self):\n",
    "        return self.programming_language\n",
    "\n",
    "\n",
    "# Example usage\n",
    "manager = Manager(\"M.SHARMA\", 110000, \"Sales\")\n",
    "print(\"Manager Name:\", manager.get_name())\n",
    "print(\"Manager Salary:\", manager.get_salary())\n",
    "print(\"Manager Department:\", manager.get_department())\n",
    "\n",
    "developer = Developer(\"SARANG C\", 80000, \"Python\")\n",
    "print(\"Developer Name:\", developer.get_name())\n",
    "print(\"Developer Salary:\", developer.get_salary())\n",
    "print(\"Developer Programming Language:\", developer.get_programming_language())\n"
   ]
  },
  {
   "cell_type": "markdown",
   "id": "69efb5f2-304f-4bfb-b9a2-9d8b7250a4b3",
   "metadata": {},
   "source": [
    "Q.(8). Design a base class called \"Shape\" with attributes like \"colour\" and \"border_width.\"\n",
    "Create derived classes, \"Rectangle\" and \"Circle,\" that inherit from \"Shape\" and add\n",
    "specific attributes like \"length\" and \"width\" for the \"Rectangle\" class and \"radius\" for\n",
    "the \"Circle\" class."
   ]
  },
  {
   "cell_type": "code",
   "execution_count": 8,
   "id": "b7db4b6f-09fb-4a9b-b5b2-92cc2486755c",
   "metadata": {},
   "outputs": [
    {
     "name": "stdout",
     "output_type": "stream",
     "text": [
      "Rectangle Colour: Red\n",
      "Rectangle Border Width: 2\n",
      "Rectangle Length: 5\n",
      "Rectangle Width: 3\n",
      "Circle Colour: Blue\n",
      "Circle Border Width: 1\n",
      "Circle Radius: 7\n"
     ]
    }
   ],
   "source": [
    "## Answer- \n",
    "\n",
    "class Shape:\n",
    "    def __init__(self, colour, border_width):\n",
    "        self.colour = colour\n",
    "        self.border_width = border_width\n",
    "\n",
    "    def get_colour(self):\n",
    "        return self.colour\n",
    "\n",
    "    def get_border_width(self):\n",
    "        return self.border_width\n",
    "\n",
    "\n",
    "class Rectangle(Shape):\n",
    "    def __init__(self, colour, border_width, length, width):\n",
    "        super().__init__(colour, border_width)\n",
    "        self.length = length\n",
    "        self.width = width\n",
    "\n",
    "    def get_length(self):\n",
    "        return self.length\n",
    "\n",
    "    def get_width(self):\n",
    "        return self.width\n",
    "\n",
    "\n",
    "class Circle(Shape):\n",
    "    def __init__(self, colour, border_width, radius):\n",
    "        super().__init__(colour, border_width)\n",
    "        self.radius = radius\n",
    "\n",
    "    def get_radius(self):\n",
    "        return self.radius\n",
    "\n",
    "\n",
    "# Example usage\n",
    "rectangle = Rectangle(\"Red\", 2, 5, 3)\n",
    "print(\"Rectangle Colour:\", rectangle.get_colour())\n",
    "print(\"Rectangle Border Width:\", rectangle.get_border_width())\n",
    "print(\"Rectangle Length:\", rectangle.get_length())\n",
    "print(\"Rectangle Width:\", rectangle.get_width())\n",
    "\n",
    "circle = Circle(\"Blue\", 1, 7)\n",
    "print(\"Circle Colour:\", circle.get_colour())\n",
    "print(\"Circle Border Width:\", circle.get_border_width())\n",
    "print(\"Circle Radius:\", circle.get_radius())\n",
    "\n"
   ]
  },
  {
   "cell_type": "markdown",
   "id": "1e0dd6aa-e53e-4fa6-9f1c-e1030a585429",
   "metadata": {},
   "source": [
    "Q.(9). Create a base class called \"Device\" with attributes like \"brand\" and \"model.\" Derive\n",
    "two classes, \"Phone\" and \"Tablet,\" from \"Device.\" Add specific attributes like\n",
    "\"screen_size\" for the \"Phone\" class and \"battery_capacity\" for the \"Tablet\" class."
   ]
  },
  {
   "cell_type": "code",
   "execution_count": 9,
   "id": "c81877dd-7bae-496e-9832-2c4957ccc28f",
   "metadata": {},
   "outputs": [
    {
     "name": "stdout",
     "output_type": "stream",
     "text": [
      "Phone Brand: Apple\n",
      "Phone Model: iPhone 11\n",
      "Phone Screen Size: 6.1\n",
      "Tablet Brand: Samsung\n",
      "Tablet Model: Galaxy Tab S7\n",
      "Tablet Battery Capacity: 8000\n"
     ]
    }
   ],
   "source": [
    "##Anwser-\n",
    "\n",
    "class Device:\n",
    "    def __init__(self, brand, model):\n",
    "        self.brand = brand\n",
    "        self.model = model\n",
    "\n",
    "    def get_brand(self):\n",
    "        return self.brand\n",
    "\n",
    "    def get_model(self):\n",
    "        return self.model\n",
    "\n",
    "\n",
    "class Phone(Device):\n",
    "    def __init__(self, brand, model, screen_size):\n",
    "        super().__init__(brand, model)\n",
    "        self.screen_size = screen_size\n",
    "\n",
    "    def get_screen_size(self):\n",
    "        return self.screen_size\n",
    "\n",
    "\n",
    "class Tablet(Device):\n",
    "    def __init__(self, brand, model, battery_capacity):\n",
    "        super().__init__(brand, model)\n",
    "        self.battery_capacity = battery_capacity\n",
    "\n",
    "    def get_battery_capacity(self):\n",
    "        return self.battery_capacity\n",
    "\n",
    "\n",
    "# Example usage\n",
    "phone = Phone(\"Apple\", \"iPhone 11\", 6.1)\n",
    "print(\"Phone Brand:\", phone.get_brand())\n",
    "print(\"Phone Model:\", phone.get_model())\n",
    "print(\"Phone Screen Size:\", phone.get_screen_size())\n",
    "\n",
    "tablet = Tablet(\"Samsung\", \"Galaxy Tab S7\", 8000)\n",
    "print(\"Tablet Brand:\", tablet.get_brand())\n",
    "print(\"Tablet Model:\", tablet.get_model())\n",
    "print(\"Tablet Battery Capacity:\", tablet.get_battery_capacity())\n",
    "\n"
   ]
  },
  {
   "cell_type": "markdown",
   "id": "534357f8-9b09-4ccc-9c94-e4648aeb3db4",
   "metadata": {},
   "source": [
    "Q.(10). Create a base class called \"BankAccount\" with attributes like \"account_number\" and\n",
    "\"balance.\" Derive two classes, \"SavingsAccount\" and \"CheckingAccount,\" from\n",
    "\"BankAccount.\" Add specific methods like \"calculate_interest\" for the\n",
    "\"SavingsAccount\" class and \"deduct_fees\" for the \"CheckingAccount\" class."
   ]
  },
  {
   "cell_type": "code",
   "execution_count": 10,
   "id": "e726f389-62cf-4aac-853f-019507a4045d",
   "metadata": {},
   "outputs": [
    {
     "name": "stdout",
     "output_type": "stream",
     "text": [
      "Account Number: 123456789\n",
      "Balance: 1000\n",
      "Updated Balance after Interest Calculation: 1050.0\n",
      "Account Number: 987654321\n",
      "Balance: 2000\n",
      "Updated Balance after Fee Deduction: 1990\n"
     ]
    }
   ],
   "source": [
    "##Answer- \n",
    "\n",
    "class BankAccount:\n",
    "    def __init__(self, account_number, balance):\n",
    "        self.account_number = account_number\n",
    "        self.balance = balance\n",
    "\n",
    "    def get_account_number(self):\n",
    "        return self.account_number\n",
    "\n",
    "    def get_balance(self):\n",
    "        return self.balance\n",
    "\n",
    "\n",
    "class SavingsAccount(BankAccount):\n",
    "    def __init__(self, account_number, balance):\n",
    "        super().__init__(account_number, balance)\n",
    "\n",
    "    def calculate_interest(self, interest_rate):\n",
    "        interest = self.balance * interest_rate\n",
    "        self.balance += interest\n",
    "\n",
    "\n",
    "class CheckingAccount(BankAccount):\n",
    "    def __init__(self, account_number, balance):\n",
    "        super().__init__(account_number, balance)\n",
    "\n",
    "    def deduct_fees(self, fee):\n",
    "        self.balance -= fee\n",
    "\n",
    "\n",
    "\n",
    "savings_account = SavingsAccount(\"123456789\", 1000)\n",
    "print(\"Account Number:\", savings_account.get_account_number())\n",
    "print(\"Balance:\", savings_account.get_balance())\n",
    "\n",
    "savings_account.calculate_interest(0.05)\n",
    "print(\"Updated Balance after Interest Calculation:\", savings_account.get_balance())\n",
    "\n",
    "checking_account = CheckingAccount(\"987654321\", 2000)\n",
    "print(\"Account Number:\", checking_account.get_account_number())\n",
    "print(\"Balance:\", checking_account.get_balance())\n",
    "\n",
    "checking_account.deduct_fees(10)\n",
    "print(\"Updated Balance after Fee Deduction:\", checking_account.get_balance())\n"
   ]
  }
 ],
 "metadata": {
  "kernelspec": {
   "display_name": "Python 3 (ipykernel)",
   "language": "python",
   "name": "python3"
  },
  "language_info": {
   "codemirror_mode": {
    "name": "ipython",
    "version": 3
   },
   "file_extension": ".py",
   "mimetype": "text/x-python",
   "name": "python",
   "nbconvert_exporter": "python",
   "pygments_lexer": "ipython3",
   "version": "3.10.6"
  }
 },
 "nbformat": 4,
 "nbformat_minor": 5
}

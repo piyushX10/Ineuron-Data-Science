{
 "cells": [
  {
   "cell_type": "markdown",
   "id": "20c5e719-fe09-4689-95b1-11cd1d97cb6f",
   "metadata": {},
   "source": [
    "Q.1) In Python, what is the difference between a built-in function and a user-defined function? Provide an example of each.example of each.\n",
    "\n",
    "Answer - There are two type of functions in python.\n",
    "         1.Built in function\n",
    "         Built in functions are type of functions which are already present\n",
    "         program and we can use them whenever we want. \n",
    "         examples - type(),print(),len()etc.\n",
    "         2.User defined functions\n",
    "         user defined functions are actually the functions which are created\n",
    "         devlopers or programmars so that tasks can be performed which      \n",
    "         requires that particular function.\n",
    "         examples - myfunction (),statement(),parameter().\n",
    "         \n",
    "Q.2) How can you pass arguments to a function in Python? Explain the difference between positional arguments and keyword arguments.\n",
    "\n",
    "Answer - Information can be passed into functions as arguments.\n",
    "\n",
    "Arguments are specified after the function name, inside the parentheses. You can add as many arguments as you want, just separate them with a comma.Information can be passed into functions as arguments.\n",
    "\n",
    "Positional Arguments - positional arguments are the arguments which we use to specify themselves in particular ordrer or position .\n",
    "\n",
    "For ex.\n",
    "    "
   ]
  },
  {
   "cell_type": "code",
   "execution_count": 16,
   "id": "d0fc2982-4b36-48b8-a9b6-dd0aa60c441a",
   "metadata": {},
   "outputs": [
    {
     "name": "stdout",
     "output_type": "stream",
     "text": [
      "Emil Refsnes\n",
      "Tobias Refsnes\n",
      "Linus Refsnes\n"
     ]
    }
   ],
   "source": [
    "def my_function(fname):\n",
    "  print(fname + \" Refsnes\")\n",
    "\n",
    "my_function(\"Emil\")\n",
    "my_function(\"Tobias\")\n",
    "my_function(\"Linus\")"
   ]
  },
  {
   "cell_type": "code",
   "execution_count": null,
   "id": "f8503f82-3569-4ac5-ab88-288a5b9abf8d",
   "metadata": {},
   "outputs": [],
   "source": [
    "Keyword Arguments - keyword arguments can be assign by equal operator (=), thats the main difference between positional and keyword argument.\n",
    "ex ."
   ]
  },
  {
   "cell_type": "code",
   "execution_count": 23,
   "id": "91c26bbf-6e05-455b-af12-43608fc28ee5",
   "metadata": {},
   "outputs": [
    {
     "name": "stdout",
     "output_type": "stream",
     "text": [
      "Sum: 5\n"
     ]
    }
   ],
   "source": [
    "def add_numbers(a, b):\n",
    "    sum = a + b\n",
    "    print('Sum:', sum)\n",
    "\n",
    "add_numbers(2, 3)"
   ]
  },
  {
   "cell_type": "markdown",
   "id": "68fb946b-9ff6-4a87-bd7f-f3335e271185",
   "metadata": {},
   "source": [
    "Q.3) What is the purpose of the return statement in a function? Can a function have multiple return statements? Explain with an example.\n",
    "\n",
    "Answer - A return statement is used to end the execution of the function call and “returns” the result (value of the expression following the return keyword) to the caller. The statements after the return statements are not executed. If the return statement is without any expression, then the special value None is returned. A return statement is overall used to invoke a function so that the passed statements can be executed.\n",
    "\n",
    "example -\n"
   ]
  },
  {
   "cell_type": "code",
   "execution_count": 7,
   "id": "20cfbe82-66ba-416b-9335-896cd73bd75a",
   "metadata": {},
   "outputs": [
    {
     "name": "stdout",
     "output_type": "stream",
     "text": [
      "['geeksforgeeks', 20]\n"
     ]
    }
   ],
   "source": [
    "# A Python program to return multiple\n",
    "# values from a method using list\n",
    "\n",
    "# This function returns a list\n",
    "def fun():\n",
    "\tstr = \"geeksforgeeks\"\n",
    "\tx = 20\n",
    "\treturn [str, x];\n",
    "\n",
    "# Driver code to test above method\n",
    "list = fun()\n",
    "print(list)\n"
   ]
  },
  {
   "cell_type": "markdown",
   "id": "e63a2dde-eecc-45ad-becb-5181797c96b8",
   "metadata": {},
   "source": [
    "Q.4) What are lambda functions in Python? How are they different from regular functions? Provide an example where a lambda function can be useful.\n",
    "Answer - \n",
    "\n",
    "A Lambda Function in Python programming is an anonymous function or a function having no name. It is a small and restricted function having no more than one line. Just like a normal function, a Lambda function can have multiple arguments with one expression.\n",
    "\n",
    "unlike a normal function, we cant surround the parameters of a lambda function with parentheses.\n",
    "\n",
    "example-\n"
   ]
  },
  {
   "cell_type": "code",
   "execution_count": 8,
   "id": "43ae0dcb-9f2e-49b5-b265-7f2c80a98f0b",
   "metadata": {},
   "outputs": [
    {
     "name": "stdout",
     "output_type": "stream",
     "text": [
      "some kind of a  lambda\n"
     ]
    }
   ],
   "source": [
    "x=\"some kind of a  lambda\"\n",
    "(lambda x : print(x))(x)"
   ]
  },
  {
   "cell_type": "markdown",
   "id": "9bcd1b00-9ecf-41c4-8827-12235154737c",
   "metadata": {},
   "source": [
    "Q.5) How does the concept of \"scope\" apply to functions in Python? Explain the difference between local scope and global scope.\n",
    "\n",
    "Answer - A variable is only available from inside the region it is created. This is called scope.\n",
    "\n",
    "1.Local scope - Local scope refers to the names which are defined within a function and are local to that function. They can be accessed from the point of its definition until the end of the block in which it has been defined. The local scope exists till the time the function has been executed. Let’s understand the local scope with the help of a code.\n",
    "example-\n",
    "\n",
    "\n"
   ]
  },
  {
   "cell_type": "code",
   "execution_count": 9,
   "id": "731608c4-b3c3-41c5-bb28-6a5803381427",
   "metadata": {},
   "outputs": [
    {
     "name": "stdout",
     "output_type": "stream",
     "text": [
      "Hey Welcome to Python Programming!\n",
      "Hey Mark!\n"
     ]
    }
   ],
   "source": [
    "message = \"Hey\"\n",
    "def python_developer():\n",
    "    developer = \"Welcome to Python Programming!\"\n",
    "    print(message, developer)\n",
    "def developer_name(name):\n",
    "    print(message, name)\n",
    "python_developer()\n",
    "developer_name(\"Mark!\")\n"
   ]
  },
  {
   "cell_type": "markdown",
   "id": "c94154b6-4091-4c2f-a55a-14dda2cbe300",
   "metadata": {},
   "source": [
    "2.Global scope - Global scope refers to the names of variables which are defined in the main body of a program. These are visible and accessed throughout the program. The variables or objects declared in the global scope are easily accessible to all functions within the program. Let’s understand the global scope with the help of a code.\n",
    "\n",
    "example-"
   ]
  },
  {
   "cell_type": "code",
   "execution_count": 10,
   "id": "68084823-d75f-4d70-a986-05c1d8bfb3ed",
   "metadata": {},
   "outputs": [
    {
     "name": "stdout",
     "output_type": "stream",
     "text": [
      "The value defined is:  1\n"
     ]
    }
   ],
   "source": [
    "def local_test():\n",
    "    value = 1\n",
    "    # Print statement 1\n",
    "    print(\"The value defined is: \", value)\n",
    "local_test()\n"
   ]
  },
  {
   "cell_type": "markdown",
   "id": "e2295e36-55f2-48be-bf33-b4102ef59466",
   "metadata": {},
   "source": [
    "Q.6) How can you use the \"return\" statement in a Python function to return multiple values?\n",
    "\n",
    "Answer - In Python, we can return multiple values by simply separating them with commas in the return statement.\n",
    "\n",
    "for example -"
   ]
  },
  {
   "cell_type": "code",
   "execution_count": 20,
   "id": "76114d74-844b-4684-9523-f33c05ebb751",
   "metadata": {},
   "outputs": [
    {
     "name": "stdout",
     "output_type": "stream",
     "text": [
      "['abc', 100]\n",
      "<class 'list'>\n"
     ]
    }
   ],
   "source": [
    "def test_list():\n",
    "    return ['abc', 100]\n",
    "\n",
    "result = test_list()\n",
    "\n",
    "print(result)\n",
    "print(type(result))"
   ]
  },
  {
   "cell_type": "markdown",
   "id": "30f28a39-3f50-4eb2-9cdd-b569b9c430c9",
   "metadata": {},
   "source": [
    "Q.7) What is the difference between the \"pass by value\" and \"pass by reference\" concepts when it comes to function arguments in Python?\n",
    "Answer -\n",
    "\n",
    "When a function is called, the arguments in a function can be passed by value or passed by reference. The values that are passed in the function call are called the actual parameters.\n",
    "The values received by the function (when it is called ) are called the formal parameters.\n",
    "\n",
    "1.Pass by value -\n",
    "\n",
    "Pass by value means that a copy of the actual parameter’s value is made in memory, i.e. the caller and callee have two independent variables with the same value. If the callee modifies the parameter value, the effect is not visible to the caller.\n",
    "\n",
    "Overview:\n",
    "\n",
    "1.Passes an argument by value.\n",
    "2.Callee does not have any access to the underlying element in the calling code.\n",
    "3.A copy of the data is sent to the callee.\n",
    "4.Changes made to the passed variable do not affect the actual value.\n",
    "\n",
    "\n",
    "2.Pass by reference-\n",
    "\n",
    "Pass by reference (also called pass by address) means to pass the reference of an argument in the calling function to the corresponding formal parameter of the called function so that a copy of the address of the actual parameter is made in memory, i.e. the caller and the callee use the same variable for the parameter. If the callee modifies the parameter variable, the effect is visible to the caller’s variable.\n",
    "\n",
    "Overview:\n",
    "\n",
    "1.Passes an argument by reference.\n",
    "2.Callee gives a direct reference to the programming element in the calling code.\n",
    "3.The memory address of the stored data is passed.\n",
    "4.Changes to the value have an effect on the original data."
   ]
  },
  {
   "cell_type": "markdown",
   "id": "04cf92c7-7e80-4f0e-9dff-c831f52147b0",
   "metadata": {},
   "source": [
    "Q.9) Create a function that takes a full name as an argument and returns first name and last name.\n",
    "\n",
    "Answer - "
   ]
  },
  {
   "cell_type": "code",
   "execution_count": 3,
   "id": "57f6305a-66c2-438b-9735-c971b1f86721",
   "metadata": {},
   "outputs": [
    {
     "name": "stdout",
     "output_type": "stream",
     "text": [
      "piyushchandane\n"
     ]
    }
   ],
   "source": [
    "first_name = \"piyush\"\n",
    "last_name = \"chandane\"\n",
    "\n",
    "print(first_name + last_name)"
   ]
  },
  {
   "cell_type": "code",
   "execution_count": null,
   "id": "c57fd79b-d417-498f-b272-1640e6db7a98",
   "metadata": {},
   "outputs": [],
   "source": []
  }
 ],
 "metadata": {
  "kernelspec": {
   "display_name": "Python 3 (ipykernel)",
   "language": "python",
   "name": "python3"
  },
  "language_info": {
   "codemirror_mode": {
    "name": "ipython",
    "version": 3
   },
   "file_extension": ".py",
   "mimetype": "text/x-python",
   "name": "python",
   "nbconvert_exporter": "python",
   "pygments_lexer": "ipython3",
   "version": "3.10.6"
  }
 },
 "nbformat": 4,
 "nbformat_minor": 5
}

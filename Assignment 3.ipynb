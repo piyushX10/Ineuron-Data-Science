{
 "cells": [
  {
   "cell_type": "markdown",
   "id": "9559fad3-969a-4694-bb08-faecc8785f5e",
   "metadata": {},
   "source": [
    "1. Why are functions advantageous to have in your programs?\n",
    "\n",
    "\n",
    "Answer -because functions are important to run the code,after creating a particular function , we can use it for doing foe a particular task.\n",
    "it makes task easier, efficient and time saving too."
   ]
  },
  {
   "cell_type": "markdown",
   "id": "daa3c102-cc12-4381-af23-a1a507df6a48",
   "metadata": {},
   "source": [
    "2. When does the code in a function run: when its specified or when its called?\n",
    "\n",
    "\n",
    "Answer - when the function is called."
   ]
  },
  {
   "cell_type": "markdown",
   "id": "1ada5068-f9dc-4790-a2fe-bb8a9f5d6412",
   "metadata": {},
   "source": [
    "3. What statement creates a function?\n",
    "\n",
    "\n",
    "Answer- the statement def defines the function.\n"
   ]
  },
  {
   "cell_type": "markdown",
   "id": "5b48f60b-eee9-48e8-b1ae-cc80c07f8181",
   "metadata": {},
   "source": [
    "4. What is the difference between a function and a function call?\n",
    "\n",
    "\n",
    "Answer- A function is a process doing a particular part of a task , while function calling is the implementation of that function which will be used to complete \n",
    "the whole task."
   ]
  },
  {
   "cell_type": "markdown",
   "id": "8281a5cb-a704-4001-ac86-2a230f7aac0c",
   "metadata": {},
   "source": [
    "5. How many global scopes are there in a Python program? How many local scopes?\n",
    "\n",
    "\n",
    "Answer - Whenever a function is called , there is one global scope and one is local scope."
   ]
  },
  {
   "cell_type": "markdown",
   "id": "52315ce2-cc97-4f6c-ab14-07a79546510e",
   "metadata": {},
   "source": [
    "6. What happens to variables in a local scope when the function call returns?\n",
    "\n",
    "\n",
    "Answer - When a function call returns , the local scope will be destroyed and all the present variables will be terminated or forgotten."
   ]
  },
  {
   "cell_type": "markdown",
   "id": "0fa42ecd-1b5d-4c01-80fc-de37f09231a0",
   "metadata": {},
   "source": [
    "7. What is the concept of a return value? Is it possible to have a return value in an expression?\n",
    "\n",
    "\n",
    "Answer -  A return value is the value that a function returns as result of execution of lines of code within it. Like any value, a return value can be used as part of an expression."
   ]
  },
  {
   "cell_type": "markdown",
   "id": "95a88962-fac6-437b-bb72-c8535152b75c",
   "metadata": {},
   "source": [
    "8. If a function does not have a return statement, what is the return value of a call to that function?\n",
    "\n",
    "\n",
    "Answer - if a function does not have a return staement , the return value of that function would be none."
   ]
  },
  {
   "cell_type": "markdown",
   "id": "4b5f7ef8-ee77-40bd-a6e6-05250d0a888d",
   "metadata": {},
   "source": [
    "9. How do you make a function variable refer to the global variable?\n",
    "\n",
    "\n",
    "Answer- we have to use global keyword to refer it to a global variable."
   ]
  },
  {
   "cell_type": "markdown",
   "id": "287381d7-3e14-419b-a6f3-f7d771a0467a",
   "metadata": {},
   "source": [
    "10. What is the data type of None?\n",
    "\n",
    "\n",
    "Answer - data type of None would be Nonetype"
   ]
  },
  {
   "cell_type": "markdown",
   "id": "b9d41205-0a2c-4fea-989e-d975a5f9b3d7",
   "metadata": {},
   "source": [
    "11 .What does the sentence import areallyourpetsnamederic do?\n",
    "\n",
    "\n",
    "Answer - That import statement imports a module named areallyourpetsnamederic."
   ]
  },
  {
   "cell_type": "markdown",
   "id": "b7473ed0-0512-44b1-ba22-1391be05872a",
   "metadata": {},
   "source": [
    "12. If you had a bacon() feature in a spam module, what would you call it after importing spam?\n",
    "\n",
    "\n",
    "Answer- It would be called spam.bacon()."
   ]
  },
  {
   "cell_type": "markdown",
   "id": "4d7e5288-26a2-43cb-8fa6-c911b237781d",
   "metadata": {},
   "source": [
    "13. What can you do to save a programme from crashing if it encounters an error?\n",
    "\n",
    "\n",
    "Answer - Place the line of code that might cause an error in a try clause."
   ]
  },
  {
   "cell_type": "markdown",
   "id": "9f7c9638-cd77-4af8-b384-ba29e3e019c3",
   "metadata": {},
   "source": [
    "14. What is the purpose of the try clause? What is the purpose of the except clause?\n",
    "\n",
    "\n",
    "Answer - the code that potentially can cause an error goes to the try clause , the error in code execution goes into except clause."
   ]
  }
 ],
 "metadata": {
  "kernelspec": {
   "display_name": "Python 3 (ipykernel)",
   "language": "python",
   "name": "python3"
  },
  "language_info": {
   "codemirror_mode": {
    "name": "ipython",
    "version": 3
   },
   "file_extension": ".py",
   "mimetype": "text/x-python",
   "name": "python",
   "nbconvert_exporter": "python",
   "pygments_lexer": "ipython3",
   "version": "3.10.6"
  }
 },
 "nbformat": 4,
 "nbformat_minor": 5
}

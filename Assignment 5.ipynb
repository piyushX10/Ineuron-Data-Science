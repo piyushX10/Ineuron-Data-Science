{
 "cells": [
  {
   "cell_type": "markdown",
   "id": "a441e04e-8644-49ae-97f9-fe46e9b7b2e7",
   "metadata": {},
   "source": [
    "Q.(1).  What does an empty dictionary's code look like?\n",
    "\n",
    "Answer - An empty dictionary's code looks like this,\n",
    "\n",
    "d = {}"
   ]
  },
  {
   "cell_type": "markdown",
   "id": "daad67f2-4d91-4460-aaf3-fd5eea81a124",
   "metadata": {},
   "source": [
    "Q.(2).  What is the value of a dictionary value with the key 'foo' and the value 42?"
   ]
  },
  {
   "cell_type": "code",
   "execution_count": 2,
   "id": "b037d081-2502-4078-90ed-ed62e39fe697",
   "metadata": {},
   "outputs": [
    {
     "data": {
      "text/plain": [
       "dict_values([42])"
      ]
     },
     "execution_count": 2,
     "metadata": {},
     "output_type": "execute_result"
    }
   ],
   "source": [
    "#Answer-\n",
    "\n",
    "dict = {\"foo\":42}\n",
    "dict.values()"
   ]
  },
  {
   "cell_type": "markdown",
   "id": "35bd245e-2eab-4722-a4b5-0c8dcd2ff302",
   "metadata": {},
   "source": [
    "Q.(3). What is the most significant distinction between a dictionary and a list?\n",
    "\n",
    "Answer - The items in list are present in ordered manner while items in dictionary are not in ordered manner. another difference is ,\n",
    "List can have Duplicate items But Dictionary can not have Items with Duplicate keys.\n"
   ]
  },
  {
   "cell_type": "markdown",
   "id": "bffb7bbf-50d8-484d-a139-3df7b398e079",
   "metadata": {},
   "source": [
    "Q.(4). What happens if you try to access spam [\"foo\"] if spam is {\"bar\":100} ?"
   ]
  },
  {
   "cell_type": "code",
   "execution_count": 3,
   "id": "3986a48b-dc6f-4be2-975d-19792d2c2ca6",
   "metadata": {},
   "outputs": [
    {
     "ename": "KeyError",
     "evalue": "'foo'",
     "output_type": "error",
     "traceback": [
      "\u001b[0;31m---------------------------------------------------------------------------\u001b[0m",
      "\u001b[0;31mKeyError\u001b[0m                                  Traceback (most recent call last)",
      "Cell \u001b[0;32mIn [3], line 4\u001b[0m\n\u001b[1;32m      1\u001b[0m \u001b[38;5;66;03m## Answer -\u001b[39;00m\n\u001b[1;32m      3\u001b[0m spam \u001b[38;5;241m=\u001b[39m {\u001b[38;5;124m'\u001b[39m\u001b[38;5;124mbar\u001b[39m\u001b[38;5;124m'\u001b[39m: \u001b[38;5;241m100\u001b[39m}\n\u001b[0;32m----> 4\u001b[0m \u001b[43mspam\u001b[49m\u001b[43m[\u001b[49m\u001b[38;5;124;43m'\u001b[39;49m\u001b[38;5;124;43mfoo\u001b[39;49m\u001b[38;5;124;43m'\u001b[39;49m\u001b[43m]\u001b[49m\n",
      "\u001b[0;31mKeyError\u001b[0m: 'foo'"
     ]
    }
   ],
   "source": [
    "## Answer -\n",
    "\n",
    "spam = {'bar': 100}\n",
    "spam['foo']"
   ]
  },
  {
   "cell_type": "code",
   "execution_count": null,
   "id": "15320dce-5c5b-4bcc-856d-1e55fec65f31",
   "metadata": {},
   "outputs": [],
   "source": [
    "we will get the KeyError"
   ]
  },
  {
   "cell_type": "markdown",
   "id": "0acc9105-614d-43d3-8aba-a2be841026af",
   "metadata": {},
   "source": [
    "Q.(5)   If a dictionary is stored in spam, what is the difference between the expressions 'cat' in spam and 'cat' in spam.keys()?\n",
    " \n",
    "\n",
    "Answer - There is no difference. The in operator checks whether a value exists as a key in the dictionary."
   ]
  },
  {
   "cell_type": "markdown",
   "id": "154ebaeb-9a46-4bbe-9deb-e915b6e4e4c8",
   "metadata": {},
   "source": [
    "Q.(6).   If a dictionary is stored in spam, what is the difference between the expressions 'cat' in spam and 'cat' in spam.values()?\n",
    "\n",
    "Answer - 'cat' in spam checks whether there is a 'cat' key in the dictionary, while 'cat' in spam.values() checks whether there is a value 'cat' for one of the keys in spam."
   ]
  },
  {
   "cell_type": "code",
   "execution_count": null,
   "id": "63fe2229-2055-4ac6-a35e-f0251fb7de04",
   "metadata": {},
   "outputs": [],
   "source": [
    "Q.(7).   What is a shortcut for the following code?\n",
    "       if 'color' not in spam :\n",
    "        spam[\"color\"] = \"black\""
   ]
  },
  {
   "cell_type": "markdown",
   "id": "666fa236-339d-464c-86aa-27e2f6b887ed",
   "metadata": {},
   "source": [
    "Answer - spam.detdefault('color','black')"
   ]
  },
  {
   "cell_type": "markdown",
   "id": "78539e1d-9862-4826-8187-0bd6e2766e49",
   "metadata": {},
   "source": [
    "Q.(8).  How do you 'pretty print' dictionary values using which module and function?\n",
    "\n",
    "Answer - pprint.pprint()"
   ]
  }
 ],
 "metadata": {
  "kernelspec": {
   "display_name": "Python 3 (ipykernel)",
   "language": "python",
   "name": "python3"
  },
  "language_info": {
   "codemirror_mode": {
    "name": "ipython",
    "version": 3
   },
   "file_extension": ".py",
   "mimetype": "text/x-python",
   "name": "python",
   "nbconvert_exporter": "python",
   "pygments_lexer": "ipython3",
   "version": "3.10.6"
  }
 },
 "nbformat": 4,
 "nbformat_minor": 5
}
